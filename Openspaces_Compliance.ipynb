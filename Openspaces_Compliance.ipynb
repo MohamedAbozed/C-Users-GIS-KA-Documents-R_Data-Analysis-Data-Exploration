{
  "nbformat": 4,
  "nbformat_minor": 0,
  "metadata": {
    "colab": {
      "provenance": [],
      "authorship_tag": "ABX9TyPQsbZo/EWSvlz3pU0+CEgx",
      "include_colab_link": true
    },
    "kernelspec": {
      "name": "python3",
      "display_name": "Python 3"
    },
    "language_info": {
      "name": "python"
    }
  },
  "cells": [
    {
      "cell_type": "markdown",
      "metadata": {
        "id": "view-in-github",
        "colab_type": "text"
      },
      "source": [
        "<a href=\"https://colab.research.google.com/github/MohamedAbozed/C-Users-GIS-KA-Documents-R_Data-Analysis-Data-Exploration/blob/main/Openspaces_Compliance.ipynb\" target=\"_parent\"><img src=\"https://colab.research.google.com/assets/colab-badge.svg\" alt=\"Open In Colab\"/></a>"
      ]
    },
    {
      "cell_type": "code",
      "execution_count": null,
      "metadata": {
        "id": "Q436O2id9Qu_"
      },
      "outputs": [],
      "source": [
        "# This script automates spatial analysis to check if 95% of residential zones are within 400 meters of Open Spaces."
      ]
    },
    {
      "cell_type": "code",
      "source": [
        "import arcpy  # Import ArcPy for GIS operations\n",
        "import os  # To manage file paths\n",
        "import datetime  # To generate report dates"
      ],
      "metadata": {
        "id": "cEMg0_HN9jQo"
      },
      "execution_count": null,
      "outputs": []
    },
    {
      "cell_type": "code",
      "source": [
        "open_spaces = r\"C:\\GIS_Project\\Data\\OpenSpaces.gdb\\OpenSpaces\"\n",
        "residential_zones = r\"C:\\GIS_Project\\Data\\Zoning.gdb\\Residential_Zones\"\n",
        "road_network = r\"C:\\GIS_Project\\Data\\Roads.gdb\\Roads\"\n",
        "aerial_imagery = r\"C:\\GIS_Project\\Data\\Imagery.gdb\\LatestAerial\"\n"
      ],
      "metadata": {
        "id": "vwP_f_uN9oPY"
      },
      "execution_count": null,
      "outputs": []
    },
    {
      "cell_type": "code",
      "source": [
        "arcpy.RepairGeometry_management(open_spaces)\n",
        "arcpy.RepairGeometry_management(residential_zones)\n"
      ],
      "metadata": {
        "id": "WE2UlMDp9u0z"
      },
      "execution_count": null,
      "outputs": []
    },
    {
      "cell_type": "code",
      "source": [
        "buffer_output = os.path.join(output_folder, \"OpenSpace_Buffer_400m.shp\")\n",
        "arcpy.Buffer_analysis(open_spaces, buffer_output, \"400 Meters\", \"FULL\", \"ROUND\", \"ALL\")\n"
      ],
      "metadata": {
        "id": "txFOkfzc9wo4"
      },
      "execution_count": null,
      "outputs": []
    },
    {
      "cell_type": "code",
      "source": [
        "overlay_output = os.path.join(output_folder, \"Accessible_Residential.shp\")\n",
        "arcpy.Intersect_analysis([buffer_output, residential_zones], overlay_output, \"ALL\")\n"
      ],
      "metadata": {
        "id": "ma8cIBFA9xsY"
      },
      "execution_count": null,
      "outputs": []
    },
    {
      "cell_type": "code",
      "source": [
        "total_area = sum([row[0] for row in arcpy.da.SearchCursor(residential_zones, [\"SHAPE@AREA\"])])\n",
        "accessible_area = sum([row[0] for row in arcpy.da.SearchCursor(overlay_output, [\"SHAPE@AREA\"])])\n",
        "compliance_percentage = (accessible_area / total_area) * 100\n"
      ],
      "metadata": {
        "id": "wtgniPwI9z2x"
      },
      "execution_count": null,
      "outputs": []
    },
    {
      "cell_type": "code",
      "source": [
        "compliance_status = \"Compliant\" if compliance_percentage >= 95 else \"Non-Compliant\"\n"
      ],
      "metadata": {
        "id": "8qIT4MDx901R"
      },
      "execution_count": null,
      "outputs": []
    },
    {
      "cell_type": "code",
      "source": [
        "report_file = os.path.join(report_folder, \"Accessibility_Report.txt\")\n",
        "with open(report_file, \"w\") as report:\n",
        "    report.write(f\"Date: {datetime.date.today()}\\n\")\n",
        "    report.write(f\"Total Residential Area: {total_area:.2f} sq.m\\n\")\n",
        "    report.write(f\"Accessible Area: {accessible_area:.2f} sq.m\\n\")\n",
        "    report.write(f\"Compliance Percentage: {compliance_percentage:.2f}%\\n\")\n",
        "    report.write(f\"Status: {compliance_status}\\n\")\n"
      ],
      "metadata": {
        "id": "9QgjO8CI93iJ"
      },
      "execution_count": null,
      "outputs": []
    },
    {
      "cell_type": "code",
      "source": [],
      "metadata": {
        "id": "PncyzTMF94lI"
      },
      "execution_count": null,
      "outputs": []
    }
  ]
}